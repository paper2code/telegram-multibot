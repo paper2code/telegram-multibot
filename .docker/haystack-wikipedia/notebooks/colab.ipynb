{
  "nbformat": 4,
  "nbformat_minor": 0,
  "metadata": {
    "kernelspec": {
      "display_name": "Python 3",
      "language": "python",
      "name": "python3"
    },
    "language_info": {
      "codemirror_mode": {
        "name": "ipython",
        "version": 3
      },
      "file_extension": ".py",
      "mimetype": "text/x-python",
      "name": "python",
      "nbconvert_exporter": "python",
      "pygments_lexer": "ipython3",
      "version": "3.7.8"
    },
    "colab": {
      "name": "Haystack QA Wikipedia.ipynb",
      "provenance": [],
      "collapsed_sections": []
    }
  },
  "cells": [
    {
      "cell_type": "markdown",
      "metadata": {
        "id": "Jttxk4mm3Jw_",
        "colab_type": "text"
      },
      "source": [
        "## 1. Prepare the data"
      ]
    },
    {
      "cell_type": "markdown",
      "metadata": {
        "id": "fzh3AbqD9v-c",
        "colab_type": "text"
      },
      "source": [
        "## Mount google drive"
      ]
    },
    {
      "cell_type": "code",
      "metadata": {
        "id": "JG0ghsEd9vCu",
        "colab_type": "code",
        "colab": {
          "base_uri": "https://localhost:8080/",
          "height": 34
        },
        "outputId": "e7168667-b929-4e1a-9bf6-acdab0f12c99"
      },
      "source": [
        "from google.colab import drive\n",
        "drive.mount(\"/content/drive\")"
      ],
      "execution_count": 1,
      "outputs": [
        {
          "output_type": "stream",
          "text": [
            "Mounted at /content/drive\n"
          ],
          "name": "stdout"
        }
      ]
    },
    {
      "cell_type": "code",
      "metadata": {
        "id": "CQmSO-Od_Es3",
        "colab_type": "code",
        "colab": {
          "base_uri": "https://localhost:8080/",
          "height": 255
        },
        "outputId": "a642b769-710c-423d-9c4d-d9390ba1d056"
      },
      "source": [
        "!mkdir -p /content/drive/My\\ Drive/wikidpedia\n",
        "!ls -l /content/drive/My\\ Drive"
      ],
      "execution_count": 12,
      "outputs": [
        {
          "output_type": "stream",
          "text": [
            "total 98\n",
            "drwx------ 2 root root  4096 May 28 10:02  BloombergAndReuters\n",
            "drwx------ 2 root root  4096 Jul  6 08:49 'Colab Files'\n",
            "drwx------ 2 root root  4096 May 19 06:38 'Colab Notebooks'\n",
            "drwx------ 2 root root  4096 May  4 07:10  comp_cars\n",
            "drwx------ 2 root root  4096 May 19 06:47  Dmoz\n",
            "drwx------ 2 root root  4096 May  4 07:09  docs\n",
            "drwx------ 2 root root  4096 May 20 08:01  Feedpushr\n",
            "-rw------- 1 root root   151 May 20 09:45  Language-iso2label.gsheet\n",
            "drwx------ 2 root root  4096 Jun  8 07:38  OVH\n",
            "-rw------- 1 root root 57587 May 25 10:35 'Self Healing Platform.pptx'\n",
            "-rw------- 1 root root   151 May 24 09:01 'US Politicians.gsheet'\n",
            "drwx------ 3 root root  4096 Sep 21 04:49  wikidpedia\n",
            "drwx------ 2 root root  4096 Apr 27 05:40  yolo-darknet\n"
          ],
          "name": "stdout"
        }
      ]
    },
    {
      "cell_type": "markdown",
      "metadata": {
        "id": "OQIFQNwb-aae",
        "colab_type": "text"
      },
      "source": [
        "## Get latest Wikipedia English dump (this will take more than 4 hours)"
      ]
    },
    {
      "cell_type": "code",
      "metadata": {
        "id": "CZyLngNf3JxB",
        "colab_type": "code",
        "colab": {
          "base_uri": "https://localhost:8080/",
          "height": 318
        },
        "outputId": "32549279-a64b-4978-d1f6-a496e190044b"
      },
      "source": [
        "# Get latest Wikipedia English dump (this will take more than 4 hours)\n",
        "! wget -nc -P /content/drive/My\\ Drive/wikidpedia \"http://download.wikimedia.org/enwiki/latest/enwiki-latest-pages-articles.xml.bz2\""
      ],
      "execution_count": null,
      "outputs": [
        {
          "output_type": "stream",
          "text": [
            "--2020-09-21 05:11:08--  http://download.wikimedia.org/enwiki/latest/enwiki-latest-pages-articles.xml.bz2\n",
            "Resolving download.wikimedia.org (download.wikimedia.org)... 103.102.166.224, 2001:df2:e500:ed1a::1\n",
            "Connecting to download.wikimedia.org (download.wikimedia.org)|103.102.166.224|:80... connected.\n",
            "HTTP request sent, awaiting response... 301 TLS Redirect\n",
            "Location: https://download.wikimedia.org/enwiki/latest/enwiki-latest-pages-articles.xml.bz2 [following]\n",
            "--2020-09-21 05:11:08--  https://download.wikimedia.org/enwiki/latest/enwiki-latest-pages-articles.xml.bz2\n",
            "Connecting to download.wikimedia.org (download.wikimedia.org)|103.102.166.224|:443... connected.\n",
            "HTTP request sent, awaiting response... 301 Moved Permanently\n",
            "Location: https://dumps.wikimedia.org/enwiki/latest/enwiki-latest-pages-articles.xml.bz2 [following]\n",
            "--2020-09-21 05:11:08--  https://dumps.wikimedia.org/enwiki/latest/enwiki-latest-pages-articles.xml.bz2\n",
            "Resolving dumps.wikimedia.org (dumps.wikimedia.org)... 208.80.154.7, 2620:0:861:1:208:80:154:7\n",
            "Connecting to dumps.wikimedia.org (dumps.wikimedia.org)|208.80.154.7|:443... connected.\n",
            "HTTP request sent, awaiting response... 200 OK\n",
            "Length: 17696635197 (16G) [application/octet-stream]\n",
            "Saving to: ‘/content/drive/My Drive/wikidpedia/enwiki-latest-pages-articles.xml.bz2’\n",
            "\n",
            "ml.bz2               82%[===============>    ]  13.54G  4.69MB/s    eta 10m 50s"
          ],
          "name": "stdout"
        }
      ]
    },
    {
      "cell_type": "code",
      "metadata": {
        "id": "8r3RwWJn9QoS",
        "colab_type": "code",
        "colab": {
          "base_uri": "https://localhost:8080/",
          "height": 190
        },
        "outputId": "8d5d2b95-a46e-4798-f334-3d247ee1553c"
      },
      "source": [
        "!pip install wikiextractor"
      ],
      "execution_count": null,
      "outputs": [
        {
          "output_type": "stream",
          "text": [
            "Collecting wikiextractor\n",
            "  Downloading https://files.pythonhosted.org/packages/6f/df/3cc30c29319b85b935971df4bea169616a84e5dcc68b729fc9757a8e39e9/wikiextractor-0.1.tar.gz\n",
            "Building wheels for collected packages: wikiextractor\n",
            "  Building wheel for wikiextractor (setup.py) ... \u001b[?25l\u001b[?25hdone\n",
            "  Created wheel for wikiextractor: filename=wikiextractor-0.1-cp36-none-any.whl size=38821 sha256=b4d07648d7e8fe3f8758440b7e1921403d9a7f4093e9feb48d6f8e4d86446bae\n",
            "  Stored in directory: /root/.cache/pip/wheels/10/59/30/8e5a627a070165141e54816359f344497523d6273e0ced6aec\n",
            "Successfully built wikiextractor\n",
            "Installing collected packages: wikiextractor\n",
            "Successfully installed wikiextractor-0.1\n"
          ],
          "name": "stdout"
        }
      ]
    },
    {
      "cell_type": "code",
      "metadata": {
        "id": "A67D3sp53JxJ",
        "colab_type": "code",
        "colab": {}
      },
      "source": [
        "# Extract text using WikiExtractor (this will take about 3 hours)\n",
        "! python -m wikiextractor.WikiExtractor -o \"/content/drive/My\\ Drive/wikidpedia/data/wikipedia/\" --json \\\n",
        "--filter_disambig_page \\\n",
        "--processes 8 \\\n",
        "\"data/enwiki-latest-pages-articles.xml.bz2\""
      ],
      "execution_count": null,
      "outputs": []
    },
    {
      "cell_type": "markdown",
      "metadata": {
        "id": "l1EpMaCz3JxS",
        "colab_type": "text"
      },
      "source": [
        "## 2. Index wikipedia"
      ]
    },
    {
      "cell_type": "markdown",
      "metadata": {
        "id": "wLYHoWTyAU3F",
        "colab_type": "text"
      },
      "source": [
        "## Install and launch Elasticsearch v7.6.2"
      ]
    },
    {
      "cell_type": "code",
      "metadata": {
        "id": "fnqyr0YA4aEz",
        "colab_type": "code",
        "colab": {}
      },
      "source": [
        "! wget https://artifacts.elastic.co/downloads/elasticsearch/elasticsearch-7.6.2-linux-x86_64.tar.gz -q\n",
        "! tar -xzf elasticsearch-7.6.2-linux-x86_64.tar.gz\n",
        "! chown -R daemon:daemon elasticsearch-7.6.2\n",
        " \n",
        "import os\n",
        "from subprocess import Popen, PIPE, STDOUT\n",
        "es_server = Popen(['elasticsearch-7.6.2/bin/elasticsearch'],\n",
        "                   stdout=PIPE, stderr=STDOUT,\n",
        "                   preexec_fn=lambda: os.setuid(1)  # as daemon\n",
        "                  )\n",
        "# wait until ES has started\n",
        "! sleep 30"
      ],
      "execution_count": null,
      "outputs": []
    },
    {
      "cell_type": "markdown",
      "metadata": {
        "id": "T93FYwF6AaZh",
        "colab_type": "text"
      },
      "source": [
        "## Install Haystack+Farm package"
      ]
    },
    {
      "cell_type": "code",
      "metadata": {
        "id": "mEzdHC8a3j71",
        "colab_type": "code",
        "colab": {
          "base_uri": "https://localhost:8080/",
          "height": 1000
        },
        "outputId": "1ba71d26-2094-4bdc-dbcd-1bee2a08bd52"
      },
      "source": [
        "!pip install https://github.com/deepset-ai/haystack/archive/0.3.0.zip"
      ],
      "execution_count": null,
      "outputs": [
        {
          "output_type": "stream",
          "text": [
            "Collecting https://github.com/deepset-ai/haystack/archive/0.3.0.zip\n",
            "\u001b[?25l  Downloading https://github.com/deepset-ai/haystack/archive/0.3.0.zip\n",
            "\u001b[K     | 1.7MB 6.4MB/s\n",
            "\u001b[?25hCollecting farm==0.4.6\n",
            "\u001b[?25l  Downloading https://files.pythonhosted.org/packages/e2/93/1beb613753a9845b689eee4571ba4a7f3210b60b4bd90f024fc324c96785/farm-0.4.6-py3-none-any.whl (184kB)\n",
            "\u001b[K     |████████████████████████████████| 194kB 5.3MB/s \n",
            "\u001b[?25hRequirement already satisfied: fastapi in /usr/local/lib/python3.6/dist-packages (from farm-haystack==0.3.0) (0.61.1)\n",
            "Requirement already satisfied: uvicorn in /usr/local/lib/python3.6/dist-packages (from farm-haystack==0.3.0) (0.11.8)\n",
            "Requirement already satisfied: gunicorn in /usr/local/lib/python3.6/dist-packages (from farm-haystack==0.3.0) (20.0.4)\n",
            "Requirement already satisfied: pandas in /usr/local/lib/python3.6/dist-packages (from farm-haystack==0.3.0) (1.0.5)\n",
            "Requirement already satisfied: psycopg2-binary in /usr/local/lib/python3.6/dist-packages (from farm-haystack==0.3.0) (2.8.6)\n",
            "Requirement already satisfied: sklearn in /usr/local/lib/python3.6/dist-packages (from farm-haystack==0.3.0) (0.0)\n",
            "Requirement already satisfied: elasticsearch in /usr/local/lib/python3.6/dist-packages (from farm-haystack==0.3.0) (7.9.1)\n",
            "Requirement already satisfied: elastic-apm in /usr/local/lib/python3.6/dist-packages (from farm-haystack==0.3.0) (5.8.1)\n",
            "Requirement already satisfied: tox in /usr/local/lib/python3.6/dist-packages (from farm-haystack==0.3.0) (3.20.0)\n",
            "Requirement already satisfied: coverage in /usr/local/lib/python3.6/dist-packages (from farm-haystack==0.3.0) (3.7.1)\n",
            "Requirement already satisfied: langdetect in /usr/local/lib/python3.6/dist-packages (from farm-haystack==0.3.0) (1.0.8)\n",
            "Requirement already satisfied: wget in /usr/local/lib/python3.6/dist-packages (from farm-haystack==0.3.0) (3.2)\n",
            "Requirement already satisfied: python-multipart in /usr/local/lib/python3.6/dist-packages (from farm-haystack==0.3.0) (0.0.5)\n",
            "Requirement already satisfied: python-docx in /usr/local/lib/python3.6/dist-packages (from farm-haystack==0.3.0) (0.8.10)\n",
            "Requirement already satisfied: boto3 in /usr/local/lib/python3.6/dist-packages (from farm==0.4.6->farm-haystack==0.3.0) (1.14.59)\n",
            "Requirement already satisfied: wheel in /usr/local/lib/python3.6/dist-packages (from farm==0.4.6->farm-haystack==0.3.0) (0.35.1)\n",
            "Requirement already satisfied: mlflow==1.0.0 in /usr/local/lib/python3.6/dist-packages (from farm==0.4.6->farm-haystack==0.3.0) (1.0.0)\n",
            "Requirement already satisfied: Werkzeug==0.16.1 in /usr/local/lib/python3.6/dist-packages (from farm==0.4.6->farm-haystack==0.3.0) (0.16.1)\n",
            "Requirement already satisfied: flask-restplus in /usr/local/lib/python3.6/dist-packages (from farm==0.4.6->farm-haystack==0.3.0) (0.13.0)\n",
            "Requirement already satisfied: psutil in /usr/local/lib/python3.6/dist-packages (from farm==0.4.6->farm-haystack==0.3.0) (5.4.8)\n",
            "Requirement already satisfied: seqeval in /usr/local/lib/python3.6/dist-packages (from farm==0.4.6->farm-haystack==0.3.0) (0.0.12)\n",
            "Requirement already satisfied: tqdm in /usr/local/lib/python3.6/dist-packages (from farm==0.4.6->farm-haystack==0.3.0) (4.41.1)\n",
            "Requirement already satisfied: setuptools in /usr/local/lib/python3.6/dist-packages (from farm==0.4.6->farm-haystack==0.3.0) (50.3.0)\n",
            "Requirement already satisfied: flask-cors in /usr/local/lib/python3.6/dist-packages (from farm==0.4.6->farm-haystack==0.3.0) (3.0.9)\n",
            "Requirement already satisfied: dotmap==1.3.0 in /usr/local/lib/python3.6/dist-packages (from farm==0.4.6->farm-haystack==0.3.0) (1.3.0)\n",
            "Collecting torch==1.5.*\n",
            "\u001b[?25l  Downloading https://files.pythonhosted.org/packages/62/01/457b49d790b6c4b9720e6f9dbbb617692f6ce8afdaadf425c055c41a7416/torch-1.5.1-cp36-cp36m-manylinux1_x86_64.whl (753.2MB)\n",
            "\u001b[K     |████████████████████████████████| 753.2MB 22kB/s \n",
            "\u001b[?25hRequirement already satisfied: flask in /usr/local/lib/python3.6/dist-packages (from farm==0.4.6->farm-haystack==0.3.0) (1.1.2)\n",
            "Requirement already satisfied: requests in /usr/local/lib/python3.6/dist-packages (from farm==0.4.6->farm-haystack==0.3.0) (2.23.0)\n",
            "Collecting transformers==3.0.2\n",
            "\u001b[?25l  Downloading https://files.pythonhosted.org/packages/27/3c/91ed8f5c4e7ef3227b4119200fc0ed4b4fd965b1f0172021c25701087825/transformers-3.0.2-py3-none-any.whl (769kB)\n",
            "\u001b[K     |████████████████████████████████| 778kB 44.3MB/s \n",
            "\u001b[?25hRequirement already satisfied: scipy>=1.3.2 in /usr/local/lib/python3.6/dist-packages (from farm==0.4.6->farm-haystack==0.3.0) (1.4.1)\n",
            "Requirement already satisfied: dill in /usr/local/lib/python3.6/dist-packages (from farm==0.4.6->farm-haystack==0.3.0) (0.3.2)\n",
            "Requirement already satisfied: starlette==0.13.6 in /usr/local/lib/python3.6/dist-packages (from fastapi->farm-haystack==0.3.0) (0.13.6)\n",
            "Requirement already satisfied: pydantic<2.0.0,>=1.0.0 in /usr/local/lib/python3.6/dist-packages (from fastapi->farm-haystack==0.3.0) (1.6.1)\n",
            "Requirement already satisfied: httptools==0.1.*; sys_platform != \"win32\" and sys_platform != \"cygwin\" and platform_python_implementation != \"PyPy\" in /usr/local/lib/python3.6/dist-packages (from uvicorn->farm-haystack==0.3.0) (0.1.1)\n",
            "Requirement already satisfied: websockets==8.* in /usr/local/lib/python3.6/dist-packages (from uvicorn->farm-haystack==0.3.0) (8.1)\n",
            "Requirement already satisfied: uvloop>=0.14.0; sys_platform != \"win32\" and sys_platform != \"cygwin\" and platform_python_implementation != \"PyPy\" in /usr/local/lib/python3.6/dist-packages (from uvicorn->farm-haystack==0.3.0) (0.14.0)\n",
            "Requirement already satisfied: h11<0.10,>=0.8 in /usr/local/lib/python3.6/dist-packages (from uvicorn->farm-haystack==0.3.0) (0.9.0)\n",
            "Requirement already satisfied: click==7.* in /usr/local/lib/python3.6/dist-packages (from uvicorn->farm-haystack==0.3.0) (7.1.2)\n",
            "Requirement already satisfied: numpy>=1.13.3 in /usr/local/lib/python3.6/dist-packages (from pandas->farm-haystack==0.3.0) (1.18.5)\n",
            "Requirement already satisfied: python-dateutil>=2.6.1 in /usr/local/lib/python3.6/dist-packages (from pandas->farm-haystack==0.3.0) (2.8.1)\n",
            "Requirement already satisfied: pytz>=2017.2 in /usr/local/lib/python3.6/dist-packages (from pandas->farm-haystack==0.3.0) (2018.9)\n",
            "Requirement already satisfied: scikit-learn in /usr/local/lib/python3.6/dist-packages (from sklearn->farm-haystack==0.3.0) (0.22.2.post1)\n",
            "Requirement already satisfied: certifi in /usr/local/lib/python3.6/dist-packages (from elasticsearch->farm-haystack==0.3.0) (2020.6.20)\n",
            "Requirement already satisfied: urllib3>=1.21.1 in /usr/local/lib/python3.6/dist-packages (from elasticsearch->farm-haystack==0.3.0) (1.24.3)\n",
            "Requirement already satisfied: filelock>=3.0.0 in /usr/local/lib/python3.6/dist-packages (from tox->farm-haystack==0.3.0) (3.0.12)\n",
            "Requirement already satisfied: py>=1.4.17 in /usr/local/lib/python3.6/dist-packages (from tox->farm-haystack==0.3.0) (1.9.0)\n",
            "Requirement already satisfied: six>=1.14.0 in /usr/local/lib/python3.6/dist-packages (from tox->farm-haystack==0.3.0) (1.15.0)\n",
            "Requirement already satisfied: importlib-metadata<2,>=0.12; python_version < \"3.8\" in /usr/local/lib/python3.6/dist-packages (from tox->farm-haystack==0.3.0) (1.7.0)\n",
            "Requirement already satisfied: packaging>=14 in /usr/local/lib/python3.6/dist-packages (from tox->farm-haystack==0.3.0) (20.4)\n",
            "Requirement already satisfied: pluggy>=0.12.0 in /usr/local/lib/python3.6/dist-packages (from tox->farm-haystack==0.3.0) (0.13.1)\n",
            "Requirement already satisfied: toml>=0.9.4 in /usr/local/lib/python3.6/dist-packages (from tox->farm-haystack==0.3.0) (0.10.1)\n",
            "Requirement already satisfied: virtualenv!=20.0.0,!=20.0.1,!=20.0.2,!=20.0.3,!=20.0.4,!=20.0.5,!=20.0.6,!=20.0.7,>=16.0.0 in /usr/local/lib/python3.6/dist-packages (from tox->farm-haystack==0.3.0) (20.0.31)\n",
            "Requirement already satisfied: lxml>=2.3.2 in /usr/local/lib/python3.6/dist-packages (from python-docx->farm-haystack==0.3.0) (4.2.6)\n",
            "Requirement already satisfied: s3transfer<0.4.0,>=0.3.0 in /usr/local/lib/python3.6/dist-packages (from boto3->farm==0.4.6->farm-haystack==0.3.0) (0.3.3)\n",
            "Requirement already satisfied: jmespath<1.0.0,>=0.7.1 in /usr/local/lib/python3.6/dist-packages (from boto3->farm==0.4.6->farm-haystack==0.3.0) (0.10.0)\n",
            "Requirement already satisfied: botocore<1.18.0,>=1.17.59 in /usr/local/lib/python3.6/dist-packages (from boto3->farm==0.4.6->farm-haystack==0.3.0) (1.17.59)\n",
            "Requirement already satisfied: querystring-parser in /usr/local/lib/python3.6/dist-packages (from mlflow==1.0.0->farm==0.4.6->farm-haystack==0.3.0) (1.2.4)\n",
            "Requirement already satisfied: alembic in /usr/local/lib/python3.6/dist-packages (from mlflow==1.0.0->farm==0.4.6->farm-haystack==0.3.0) (1.4.3)\n",
            "Requirement already satisfied: databricks-cli>=0.8.0 in /usr/local/lib/python3.6/dist-packages (from mlflow==1.0.0->farm==0.4.6->farm-haystack==0.3.0) (0.11.0)\n",
            "Requirement already satisfied: simplejson in /usr/local/lib/python3.6/dist-packages (from mlflow==1.0.0->farm==0.4.6->farm-haystack==0.3.0) (3.17.2)\n",
            "Requirement already satisfied: pyyaml in /usr/local/lib/python3.6/dist-packages (from mlflow==1.0.0->farm==0.4.6->farm-haystack==0.3.0) (3.13)\n",
            "Requirement already satisfied: entrypoints in /usr/local/lib/python3.6/dist-packages (from mlflow==1.0.0->farm==0.4.6->farm-haystack==0.3.0) (0.3)\n",
            "Requirement already satisfied: sqlparse in /usr/local/lib/python3.6/dist-packages (from mlflow==1.0.0->farm==0.4.6->farm-haystack==0.3.0) (0.3.1)\n",
            "Requirement already satisfied: docker>=3.6.0 in /usr/local/lib/python3.6/dist-packages (from mlflow==1.0.0->farm==0.4.6->farm-haystack==0.3.0) (4.3.1)\n",
            "Requirement already satisfied: gitpython>=2.1.0 in /usr/local/lib/python3.6/dist-packages (from mlflow==1.0.0->farm==0.4.6->farm-haystack==0.3.0) (3.1.8)\n",
            "Requirement already satisfied: cloudpickle in /usr/local/lib/python3.6/dist-packages (from mlflow==1.0.0->farm==0.4.6->farm-haystack==0.3.0) (1.3.0)\n",
            "Requirement already satisfied: protobuf>=3.6.0 in /usr/local/lib/python3.6/dist-packages (from mlflow==1.0.0->farm==0.4.6->farm-haystack==0.3.0) (3.12.4)\n",
            "Requirement already satisfied: sqlalchemy in /usr/local/lib/python3.6/dist-packages (from mlflow==1.0.0->farm==0.4.6->farm-haystack==0.3.0) (1.3.19)\n",
            "Requirement already satisfied: aniso8601>=0.82 in /usr/local/lib/python3.6/dist-packages (from flask-restplus->farm==0.4.6->farm-haystack==0.3.0) (8.0.0)\n",
            "Requirement already satisfied: jsonschema in /usr/local/lib/python3.6/dist-packages (from flask-restplus->farm==0.4.6->farm-haystack==0.3.0) (2.6.0)\n",
            "Requirement already satisfied: Keras>=2.2.4 in /usr/local/lib/python3.6/dist-packages (from seqeval->farm==0.4.6->farm-haystack==0.3.0) (2.4.3)\n",
            "Requirement already satisfied: future in /usr/local/lib/python3.6/dist-packages (from torch==1.5.*->farm==0.4.6->farm-haystack==0.3.0) (0.16.0)\n",
            "Requirement already satisfied: itsdangerous>=0.24 in /usr/local/lib/python3.6/dist-packages (from flask->farm==0.4.6->farm-haystack==0.3.0) (1.1.0)\n",
            "Requirement already satisfied: Jinja2>=2.10.1 in /usr/local/lib/python3.6/dist-packages (from flask->farm==0.4.6->farm-haystack==0.3.0) (2.11.2)\n",
            "Requirement already satisfied: chardet<4,>=3.0.2 in /usr/local/lib/python3.6/dist-packages (from requests->farm==0.4.6->farm-haystack==0.3.0) (3.0.4)\n",
            "Requirement already satisfied: idna<3,>=2.5 in /usr/local/lib/python3.6/dist-packages (from requests->farm==0.4.6->farm-haystack==0.3.0) (2.10)\n",
            "Requirement already satisfied: sacremoses in /usr/local/lib/python3.6/dist-packages (from transformers==3.0.2->farm==0.4.6->farm-haystack==0.3.0) (0.0.43)\n",
            "Requirement already satisfied: dataclasses; python_version < \"3.7\" in /usr/local/lib/python3.6/dist-packages (from transformers==3.0.2->farm==0.4.6->farm-haystack==0.3.0) (0.7)\n",
            "Requirement already satisfied: regex!=2019.12.17 in /usr/local/lib/python3.6/dist-packages (from transformers==3.0.2->farm==0.4.6->farm-haystack==0.3.0) (2019.12.20)\n",
            "Requirement already satisfied: sentencepiece!=0.1.92 in /usr/local/lib/python3.6/dist-packages (from transformers==3.0.2->farm==0.4.6->farm-haystack==0.3.0) (0.1.91)\n",
            "Collecting tokenizers==0.8.1.rc1\n",
            "\u001b[?25l  Downloading https://files.pythonhosted.org/packages/40/d0/30d5f8d221a0ed981a186c8eb986ce1c94e3a6e87f994eae9f4aa5250217/tokenizers-0.8.1rc1-cp36-cp36m-manylinux1_x86_64.whl (3.0MB)\n",
            "\u001b[K     |████████████████████████████████| 3.0MB 45.7MB/s \n",
            "\u001b[?25hRequirement already satisfied: joblib>=0.11 in /usr/local/lib/python3.6/dist-packages (from scikit-learn->sklearn->farm-haystack==0.3.0) (0.16.0)\n",
            "Requirement already satisfied: zipp>=0.5 in /usr/local/lib/python3.6/dist-packages (from importlib-metadata<2,>=0.12; python_version < \"3.8\"->tox->farm-haystack==0.3.0) (3.1.0)\n",
            "Requirement already satisfied: pyparsing>=2.0.2 in /usr/local/lib/python3.6/dist-packages (from packaging>=14->tox->farm-haystack==0.3.0) (2.4.7)\n",
            "Requirement already satisfied: distlib<1,>=0.3.1 in /usr/local/lib/python3.6/dist-packages (from virtualenv!=20.0.0,!=20.0.1,!=20.0.2,!=20.0.3,!=20.0.4,!=20.0.5,!=20.0.6,!=20.0.7,>=16.0.0->tox->farm-haystack==0.3.0) (0.3.1)\n",
            "Requirement already satisfied: appdirs<2,>=1.4.3 in /usr/local/lib/python3.6/dist-packages (from virtualenv!=20.0.0,!=20.0.1,!=20.0.2,!=20.0.3,!=20.0.4,!=20.0.5,!=20.0.6,!=20.0.7,>=16.0.0->tox->farm-haystack==0.3.0) (1.4.4)\n",
            "Requirement already satisfied: importlib-resources>=1.0; python_version < \"3.7\" in /usr/local/lib/python3.6/dist-packages (from virtualenv!=20.0.0,!=20.0.1,!=20.0.2,!=20.0.3,!=20.0.4,!=20.0.5,!=20.0.6,!=20.0.7,>=16.0.0->tox->farm-haystack==0.3.0) (3.0.0)\n",
            "Requirement already satisfied: docutils<0.16,>=0.10 in /usr/local/lib/python3.6/dist-packages (from botocore<1.18.0,>=1.17.59->boto3->farm==0.4.6->farm-haystack==0.3.0) (0.15.2)\n",
            "Requirement already satisfied: Mako in /usr/local/lib/python3.6/dist-packages (from alembic->mlflow==1.0.0->farm==0.4.6->farm-haystack==0.3.0) (1.1.3)\n",
            "Requirement already satisfied: python-editor>=0.3 in /usr/local/lib/python3.6/dist-packages (from alembic->mlflow==1.0.0->farm==0.4.6->farm-haystack==0.3.0) (1.0.4)\n",
            "Requirement already satisfied: tabulate>=0.7.7 in /usr/local/lib/python3.6/dist-packages (from databricks-cli>=0.8.0->mlflow==1.0.0->farm==0.4.6->farm-haystack==0.3.0) (0.8.7)\n",
            "Requirement already satisfied: websocket-client>=0.32.0 in /usr/local/lib/python3.6/dist-packages (from docker>=3.6.0->mlflow==1.0.0->farm==0.4.6->farm-haystack==0.3.0) (0.57.0)\n",
            "Requirement already satisfied: gitdb<5,>=4.0.1 in /usr/local/lib/python3.6/dist-packages (from gitpython>=2.1.0->mlflow==1.0.0->farm==0.4.6->farm-haystack==0.3.0) (4.0.5)\n",
            "Requirement already satisfied: h5py in /usr/local/lib/python3.6/dist-packages (from Keras>=2.2.4->seqeval->farm==0.4.6->farm-haystack==0.3.0) (2.10.0)\n",
            "Requirement already satisfied: MarkupSafe>=0.23 in /usr/local/lib/python3.6/dist-packages (from Jinja2>=2.10.1->flask->farm==0.4.6->farm-haystack==0.3.0) (1.1.1)\n",
            "Requirement already satisfied: smmap<4,>=3.0.1 in /usr/local/lib/python3.6/dist-packages (from gitdb<5,>=4.0.1->gitpython>=2.1.0->mlflow==1.0.0->farm==0.4.6->farm-haystack==0.3.0) (3.0.4)\n",
            "Building wheels for collected packages: farm-haystack\n",
            "  Building wheel for farm-haystack (setup.py) ... \u001b[?25l\u001b[?25hdone\n",
            "  Created wheel for farm-haystack: filename=farm_haystack-0.3.0-cp36-none-any.whl size=82900 sha256=78ba7c4e4f187247a2768f5866c3bb4a246f7f98cb778c2e25d972da179d4dbc\n",
            "  Stored in directory: /tmp/pip-ephem-wheel-cache-oxx8r8rm/wheels/03/13/9a/6fcd8ef2d9cdc48ddd2dba885f7707ac178c3caf5affc356cf\n",
            "Successfully built farm-haystack\n",
            "\u001b[31mERROR: torchvision 0.7.0+cu101 has requirement torch==1.6.0, but you'll have torch 1.5.1 which is incompatible.\u001b[0m\n",
            "Installing collected packages: torch, tokenizers, transformers, farm, farm-haystack\n",
            "  Found existing installation: torch 1.6.0\n",
            "    Uninstalling torch-1.6.0:\n",
            "      Successfully uninstalled torch-1.6.0\n",
            "  Found existing installation: tokenizers 0.8.1rc2\n",
            "    Uninstalling tokenizers-0.8.1rc2:\n",
            "      Successfully uninstalled tokenizers-0.8.1rc2\n",
            "  Found existing installation: transformers 3.1.0\n",
            "    Uninstalling transformers-3.1.0:\n",
            "      Successfully uninstalled transformers-3.1.0\n",
            "  Found existing installation: farm 0.4.8\n",
            "    Uninstalling farm-0.4.8:\n",
            "      Successfully uninstalled farm-0.4.8\n",
            "  Found existing installation: farm-haystack 0.4.0\n",
            "    Uninstalling farm-haystack-0.4.0:\n",
            "      Successfully uninstalled farm-haystack-0.4.0\n",
            "Successfully installed farm-0.4.6 farm-haystack-0.3.0 tokenizers-0.8.1rc1 torch-1.5.1 transformers-3.0.2\n"
          ],
          "name": "stdout"
        },
        {
          "output_type": "display_data",
          "data": {
            "application/vnd.colab-display-data+json": {
              "pip_warning": {
                "packages": [
                  "farm",
                  "haystack",
                  "tokenizers",
                  "torch",
                  "transformers"
                ]
              }
            }
          },
          "metadata": {
            "tags": []
          }
        }
      ]
    },
    {
      "cell_type": "markdown",
      "metadata": {
        "id": "sSGTfHkKAhuO",
        "colab_type": "text"
      },
      "source": [
        "## Load Haystack functions"
      ]
    },
    {
      "cell_type": "code",
      "metadata": {
        "id": "rOKzlhkO3JxT",
        "colab_type": "code",
        "colab": {
          "base_uri": "https://localhost:8080/",
          "height": 351
        },
        "outputId": "e81ffce2-830a-4737-eb61-bce88ad51ac4"
      },
      "source": [
        "HOST = 'localhost' \n",
        "PORT = 9200 \n",
        "INDEX_NAME = 'wikipedia_100_stride_50'\n",
        "\n",
        "from haystack import Finder\n",
        "from haystack.preprocessor.cleaning import clean_wiki_text\n",
        "from haystack.preprocessor.utils import convert_files_to_dicts, fetch_archive_from_http\n",
        "from haystack.reader.farm import FARMReader\n",
        "from haystack.reader.transformers import TransformersReader\n",
        "from haystack.utils import print_answers\n",
        "from haystack.database.elasticsearch import ElasticsearchDocumentStore\n",
        "document_store = ElasticsearchDocumentStore(host=HOST, port=PORT, username=\"\", password=\"\", index=INDEX_NAME)"
      ],
      "execution_count": null,
      "outputs": [
        {
          "output_type": "error",
          "ename": "ModuleNotFoundError",
          "evalue": "ignored",
          "traceback": [
            "\u001b[0;31m---------------------------------------------------------------------------\u001b[0m",
            "\u001b[0;31mModuleNotFoundError\u001b[0m                       Traceback (most recent call last)",
            "\u001b[0;32m<ipython-input-10-2dddcd638f82>\u001b[0m in \u001b[0;36m<module>\u001b[0;34m()\u001b[0m\n\u001b[1;32m      9\u001b[0m \u001b[0;32mfrom\u001b[0m \u001b[0mhaystack\u001b[0m\u001b[0;34m.\u001b[0m\u001b[0mreader\u001b[0m\u001b[0;34m.\u001b[0m\u001b[0mtransformers\u001b[0m \u001b[0;32mimport\u001b[0m \u001b[0mTransformersReader\u001b[0m\u001b[0;34m\u001b[0m\u001b[0;34m\u001b[0m\u001b[0m\n\u001b[1;32m     10\u001b[0m \u001b[0;31m# from haystack.utils import print_answers\u001b[0m\u001b[0;34m\u001b[0m\u001b[0;34m\u001b[0m\u001b[0;34m\u001b[0m\u001b[0m\n\u001b[0;32m---> 11\u001b[0;31m \u001b[0;32mfrom\u001b[0m \u001b[0mhaystack\u001b[0m\u001b[0;34m.\u001b[0m\u001b[0mdatabase\u001b[0m\u001b[0;34m.\u001b[0m\u001b[0melasticsearch\u001b[0m \u001b[0;32mimport\u001b[0m \u001b[0mElasticsearchDocumentStore\u001b[0m\u001b[0;34m\u001b[0m\u001b[0;34m\u001b[0m\u001b[0m\n\u001b[0m\u001b[1;32m     12\u001b[0m \u001b[0mdocument_store\u001b[0m \u001b[0;34m=\u001b[0m \u001b[0mElasticsearchDocumentStore\u001b[0m\u001b[0;34m(\u001b[0m\u001b[0mhost\u001b[0m\u001b[0;34m=\u001b[0m\u001b[0mHOST\u001b[0m\u001b[0;34m,\u001b[0m \u001b[0mport\u001b[0m\u001b[0;34m=\u001b[0m\u001b[0mPORT\u001b[0m\u001b[0;34m,\u001b[0m \u001b[0musername\u001b[0m\u001b[0;34m=\u001b[0m\u001b[0;34m\"\"\u001b[0m\u001b[0;34m,\u001b[0m \u001b[0mpassword\u001b[0m\u001b[0;34m=\u001b[0m\u001b[0;34m\"\"\u001b[0m\u001b[0;34m,\u001b[0m \u001b[0mindex\u001b[0m\u001b[0;34m=\u001b[0m\u001b[0mINDEX_NAME\u001b[0m\u001b[0;34m)\u001b[0m\u001b[0;34m\u001b[0m\u001b[0;34m\u001b[0m\u001b[0m\n",
            "\u001b[0;31mModuleNotFoundError\u001b[0m: No module named 'haystack.database'",
            "",
            "\u001b[0;31m---------------------------------------------------------------------------\u001b[0;32m\nNOTE: If your import is failing due to a missing package, you can\nmanually install dependencies using either !pip or !apt.\n\nTo view examples of installing some common dependencies, click the\n\"Open Examples\" button below.\n\u001b[0;31m---------------------------------------------------------------------------\u001b[0m\n"
          ]
        }
      ]
    },
    {
      "cell_type": "markdown",
      "metadata": {
        "id": "OUbnphv4Aqif",
        "colab_type": "text"
      },
      "source": [
        "## clear existing index (optional)"
      ]
    },
    {
      "cell_type": "code",
      "metadata": {
        "id": "4dlG6-b53Jxe",
        "colab_type": "code",
        "colab": {}
      },
      "source": [
        "# clear existing index (optional)\n",
        "if document_store.client.indices.exists(index=document_store.index):\n",
        "    print('clear existing inddex')\n",
        "    document_store.client.indices.delete(index=document_store.index)"
      ],
      "execution_count": null,
      "outputs": []
    },
    {
      "cell_type": "markdown",
      "metadata": {
        "id": "d3qGDPvQAuVn",
        "colab_type": "text"
      },
      "source": [
        "## Get all dirs in wikipedia folder"
      ]
    },
    {
      "cell_type": "code",
      "metadata": {
        "id": "cCrI4lM-3Jxl",
        "colab_type": "code",
        "colab": {}
      },
      "source": [
        "# Get all dirs in wikipedia folder\n",
        "from os import listdir\n",
        "from os.path import isfile, join\n",
        "import json\n",
        "from tqdm import tqdm\n",
        "\n",
        "wikidata_path = \"../data/wikipedia\"\n",
        "onlydirs = [f for f in listdir(wikidata_path) if not isfile(join(wikidata_path, f))]\n",
        "\n",
        "dicts = []\n",
        "bulk_size = 5000\n",
        "\n",
        "pbar = tqdm(onlydirs)\n",
        "for directory in pbar:\n",
        "    subdirs = [f for f in listdir(join(wikidata_path,directory)) if not isfile(join(wikidata_path,directory))]\n",
        "    pbar.set_description(f\"Processing wikipedia folder {directory}\")\n",
        "\n",
        "    for file in subdirs:\n",
        "        f = open(join(wikidata_path,directory,file), \"r\") \n",
        "        \n",
        "        # Each text file contains json structures separated by EOL\n",
        "        articles = f.read().split(\"\\n\")\n",
        "        \n",
        "        for article in articles:\n",
        "            if len(article)==0: continue\n",
        "\n",
        "            # Article in json format\n",
        "            json_formatted_article = json.loads(article)\n",
        "\n",
        "            # Rename keys\n",
        "            document = {\"id\": json_formatted_article[\"id\"],\n",
        "                        \"name\": json_formatted_article[\"title\"],\n",
        "                        \"url\": json_formatted_article[\"url\"], \n",
        "                        \"text\": json_formatted_article[\"text\"]}\n",
        "\n",
        "            # Add document to bulk\n",
        "            dicts.append(document)\n",
        "            \n",
        "            if len(dicts)>=bulk_size:\n",
        "                # Index bulk\n",
        "                try:\n",
        "                    document_store.write_documents(dicts)\n",
        "                    dicts.clear()\n",
        "                except:\n",
        "                    print(\"Bulk not indexed\")\n",
        "        \n",
        "    \n",
        "if len(dicts) > 0:\n",
        "    print('final round')\n",
        "    document_store.write_documents(dicts)\n",
        "            \n",
        "print('finished')"
      ],
      "execution_count": null,
      "outputs": []
    },
    {
      "cell_type": "markdown",
      "metadata": {
        "id": "LccYcGi93Jxr",
        "colab_type": "text"
      },
      "source": [
        "## 3. QA on wikipedia"
      ]
    },
    {
      "cell_type": "code",
      "metadata": {
        "id": "4WffUHdY3Jxv",
        "colab_type": "code",
        "colab": {},
        "outputId": "dfc23ab8-5026-45e7-a229-11b6f836ff07"
      },
      "source": [
        "HOST = 'localhost' \n",
        "PORT = 9200 \n",
        "INDEX_NAME = 'wikipedia_100_stride_50'\n",
        "\n",
        "from haystack import Finder\n",
        "from haystack.reader.transformers import TransformersReader\n",
        "from haystack.utils import print_answers\n",
        "from haystack.database.elasticsearch import ElasticsearchDocumentStore\n",
        "document_store = ElasticsearchDocumentStore(host=HOST, port=PORT, username=\"\", password=\"\", index=INDEX_NAME)"
      ],
      "execution_count": null,
      "outputs": [
        {
          "output_type": "stream",
          "text": [
            "09/18/2020 17:47:08 - INFO - elasticsearch -   PUT http://localhost:9200/wikipedia_100_stride_50 [status:400 request:0.004s]\n"
          ],
          "name": "stderr"
        }
      ]
    },
    {
      "cell_type": "code",
      "metadata": {
        "id": "VvKAJpHg3Jx1",
        "colab_type": "code",
        "colab": {}
      },
      "source": [
        "from haystack.retriever.sparse import ElasticsearchRetriever\n",
        "retriever = ElasticsearchRetriever(document_store=document_store)\n",
        "READER_DiR = \"../models/roberta-base-squad2\"\n",
        "READER_DiR = \"../models/electra-base-squad2\"\n",
        "reader = TransformersReader(model=READER_DiR, tokenizer=READER_DiR,  use_gpu=0)"
      ],
      "execution_count": null,
      "outputs": []
    },
    {
      "cell_type": "code",
      "metadata": {
        "id": "1Pk3Veih3JyB",
        "colab_type": "code",
        "colab": {}
      },
      "source": [
        "import logging\n",
        "logging.disable(logging.WARNING)\n",
        "finder = Finder(reader, retriever)\n",
        "prediction = finder.get_answers(question=\"who is the father of Arya Stark\", \n",
        "                                top_k_retriever=10, \n",
        "                                top_k_reader=3)"
      ],
      "execution_count": null,
      "outputs": []
    },
    {
      "cell_type": "code",
      "metadata": {
        "id": "295HcLdK3JyH",
        "colab_type": "code",
        "colab": {},
        "outputId": "f187976d-f4c2-4588-feb9-e2be5a4ad478"
      },
      "source": [
        "print_answers(prediction)"
      ],
      "execution_count": null,
      "outputs": [
        {
          "output_type": "stream",
          "text": [
            "{   'answers': [   {   'answer': 'Lord Eddard Stark,',\n",
            "                       'context': 'the Hand to honour her father Lord Eddard '\n",
            "                                  'Stark, Sansa Stark is enchanted by t',\n",
            "                       'document_id': 'sBXkiHQBc6r1xEMRXkLv',\n",
            "                       'meta': {   'id': '1183383',\n",
            "                                   'name': 'Sansa Stark',\n",
            "                                   'segment_id': 10,\n",
            "                                   'url': 'https://en.wikipedia.org/wiki?curid=1183383'},\n",
            "                       'offset_end': 504,\n",
            "                       'offset_start': 486,\n",
            "                       'probability': 0.9655782551513105,\n",
            "                       'score': None},\n",
            "                   {   'answer': 'King Robert.',\n",
            "                       'context': 'ey lacks a father figure from King Robert. '\n",
            "                                  'While escorting Sansa home, h',\n",
            "                       'document_id': 'KahJiXQBc6r1xEMR94mw',\n",
            "                       'meta': {   'id': '2492086',\n",
            "                                   'name': 'Sandor Clegane',\n",
            "                                   'segment_id': 7,\n",
            "                                   'url': 'https://en.wikipedia.org/wiki?curid=2492086'},\n",
            "                       'offset_end': 303,\n",
            "                       'offset_start': 291,\n",
            "                       'probability': 0.6672244023977644,\n",
            "                       'score': None},\n",
            "                   {   'answer': 'Lord Eddard Stark and his wife Lady Catelyn '\n",
            "                                 'Stark.',\n",
            "                       'context': 'child and younger daughter of Lord Eddard '\n",
            "                                  'Stark and his wife Lady Catelyn Stark. She '\n",
            "                                  'is tomboyish, headstrong,',\n",
            "                       'document_id': 'y3v-iHQBc6r1xEMRDbTg',\n",
            "                       'meta': {   'id': '41374178',\n",
            "                                   'name': 'Arya Stark',\n",
            "                                   'segment_id': 0,\n",
            "                                   'url': 'https://en.wikipedia.org/wiki?curid=41374178'},\n",
            "                       'offset_end': 469,\n",
            "                       'offset_start': 419,\n",
            "                       'probability': 0.3721010723017747,\n",
            "                       'score': None}],\n",
            "    'question': 'who is the father of Arya Stark'}\n"
          ],
          "name": "stdout"
        }
      ]
    },
    {
      "cell_type": "code",
      "metadata": {
        "id": "jp5nMVFE3JyP",
        "colab_type": "code",
        "colab": {}
      },
      "source": [
        "docs = retriever.retrieve('who is the father of Arya Stark', top_k=3)"
      ],
      "execution_count": null,
      "outputs": []
    },
    {
      "cell_type": "code",
      "metadata": {
        "id": "om61pNrB3JyV",
        "colab_type": "code",
        "colab": {},
        "outputId": "e7fb7c01-4481-42ee-c0a3-24953a764ee7"
      },
      "source": [
        "docs[0]"
      ],
      "execution_count": null,
      "outputs": [
        {
          "output_type": "execute_result",
          "data": {
            "text/plain": [
              "Document(id='sBXkiHQBc6r1xEMRXkLv', text=\"Sansa are walking through the woods, Joffrey notices Arya sparring with the butcher's boy, Mycah. A fight breaks out and Joffrey is attacked by Nymeria (Arya's direwolf) after Joffrey threatens to hurt Arya. Sansa lies to King Robert about the circumstances of the fight in order to protect both Joffrey and her sister Arya. Since Arya ran off with her wolf to save it, Sansa's wolf is killed instead, estranging the Stark daughters. During the Tourney of the Hand to honour her father Lord Eddard Stark, Sansa Stark is enchanted by the knights performing in the event. At the request\", external_source_id=None, question=None, query_score=32.162544, meta={'id': '1183383', 'url': 'https://en.wikipedia.org/wiki?curid=1183383', 'segment_id': 10, 'name': 'Sansa Stark'}, tags=None)"
            ]
          },
          "metadata": {
            "tags": []
          },
          "execution_count": 10
        }
      ]
    },
    {
      "cell_type": "code",
      "metadata": {
        "id": "LgU3itMJ3Jya",
        "colab_type": "code",
        "colab": {}
      },
      "source": [
        ""
      ],
      "execution_count": null,
      "outputs": []
    }
  ]
}